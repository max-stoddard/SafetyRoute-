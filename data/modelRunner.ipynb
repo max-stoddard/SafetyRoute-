{
 "cells": [
  {
   "cell_type": "markdown",
   "metadata": {},
   "source": [
    "Generates and fills data model"
   ]
  },
  {
   "cell_type": "code",
   "execution_count": 134,
   "metadata": {},
   "outputs": [],
   "source": [
    "import pandas as pd\n",
    "import numpy as np\n",
    "import iris\n",
    "import time\n",
    "import os\n",
    "from sentence_transformers import SentenceTransformer"
   ]
  },
  {
   "cell_type": "markdown",
   "metadata": {},
   "source": [
    "Get database cursor"
   ]
  },
  {
   "cell_type": "code",
   "execution_count": 135,
   "metadata": {},
   "outputs": [
    {
     "name": "stdout",
     "output_type": "stream",
     "text": [
      "localhost:1972/USER\n"
     ]
    }
   ],
   "source": [
    "username = 'demo'\n",
    "password = 'demo'\n",
    "hostname = os.getenv('IRIS_HOSTNAME', 'localhost')\n",
    "port = '1972' \n",
    "namespace = 'USER'\n",
    "CONNECTION_STRING = f\"{hostname}:{port}/{namespace}\"\n",
    "print(CONNECTION_STRING)\n",
    "conn = iris.connect(CONNECTION_STRING, username, password)\n",
    "cursor = conn.cursor()"
   ]
  },
  {
   "cell_type": "markdown",
   "metadata": {},
   "source": []
  },
  {
   "cell_type": "code",
   "execution_count": 136,
   "metadata": {},
   "outputs": [
    {
     "name": "stdout",
     "output_type": "stream",
     "text": [
      "('.031246185302734375,.072592616081237792968,.010110705159604549407,.048953980207443237304,.043148692697286605834,.054165691137313842773,-.073881894350051879882,-.036765091121196746826,.024719553068280220031,.035509612411260604858,.14885920286178588867,.031594730913639068603,-.055222362279891967773,.0035074085462838411331,.012729155831038951873,-.041387628763914108276,.053586483001708984375,-.047353100031614303588,-.057701397687196731567,.021937869489192962646,-.048309024423360824584,-.025210378691554069519,.092976197600364685058,-.016418244689702987671,-.096742212772369384766,.015070011839270591736,.033904366195201873779,.050540283322334289551,-.014054980129003524781,-.0055065308697521686553,.058694548904895782471,-.045476805418729782104,.048285871744155883789,.029118429869413375854,-.043028540909290313721,-.070719406008720397949,.078700229525566101074,.017791122198104858398,.074496507644653320312,-.024362862110137939453,.026343561708927154541,-.075216986238956451416,.026295315474271774291,-.015547005459666252136,.022891288623213768006,.021159183233976364136,.00046368638868443667888,-.0054191881790757179261,.016817944124341011047,-.12114264070987701416,-.030666699633002281188,.070919208228588104248,.038431376218795776367,-.0085599739104509353637,-.045652538537979125976,-.046352956444025039672,.036754511296749114991,-.015757415443658828736,.091222546994686126708,.0094487136229872703552,-.0067558153532445430756,.069595046341419219971,-.0081423409283161163331,.035415519028902053833,-.023492805659770965576,.012708159163594245911,.016210900619626045227,-.039320584386587142944,.17699700593948364257,.013000208884477615356,.064255028963088989257,.0086686061695218086242,-.022088548168540000916,-.086620382964611053466,-.014270938001573085784,.0098718162626028060913,-.029783772304654121398,.013237647712230682373,.0087583111599087715148,-.048051085323095321656,.076445497572422027587,-.054474417120218276977,-.054722141474485397338,.024701980873942375183,-.00018275836191605776548,-.0040747923776507377624,-.037448238581418991088,.040874920785427093506,.0043749762699007987976,.011575696058571338653,-.036359831690788269042,.032670654356479644776,.027359377592802047729,.024291958659887313842,.0017384028760716319084,.028108825907111167907,-.073617435991764068603,-.037977240979671478271,.025759041309356689453,.040508154779672622681,.0021517716813832521438,.0077679837122559547424,-.028697296977043151856,-.037762362509965896606,.036562018096446990966,-.052373606711626052856,-.023935293778777122497,-.023412391543388366699,-.12024193257093429566,.074366986751556396484,.059914316982030868531,.019698653370141983032,-.046170171350240707397,-.027023117989301681518,.037927452474832534791,.046818379312753677368,.019332461059093475341,-.013974678702652454376,-.059248350560665130616,-.026287537068128585816,.030471842736005783081,-.068364210426807403564,-.096672803163528442382,.011715628206729888916,.020501310005784034729,-.0026953814085572957992,-.036515071988105773926,-.0000000000000000000000000000000030422083999448659958,.033631198108196258544,-.094481803476810455322,-.018012519925832748413,-.0015626639360561966896,.069947011768817901611,.00098837516270577907562,-.042358867824077606201,-.017029659822583198547,.028054961934685707092,.049603965133428573608,.020662289112806320191,-.044471573084592819213,.080073520541191101074,-.034091182053089141846,-.019416805356740951538,.012311611324548721313,.017436001449823379516,.071777194738388061523,-.15231736004352569581,.062289774417877197266,-.027695298194885253906,-.0013153244508430361747,-.035235080868005752563,.087202884256839752197,-.074589483439922332763,.033325459808111190796,-.010357405990362167358,.027079313993453979492,.038060776889324188232,-.038277182728052139282,.011327415704727172851,.046353347599506378173,.035166162997484207153,.048899661749601364136,.040178347378969192504,.046826489269733428956,.00033274298766627907752,-.039079148322343826293,-.062807463109493255616,-.0075116693042218685151,-.041443314403295516967,-.0033897196408361196517,-.069686323404312133789,-.017394801601767539978,.022071722894906997681,.029933333396911621093,-.12488739937543869018,-.056193079799413681031,-.050738699734210968017,-.0023092357441782951354,.024516129866242408752,.0019379309378564357757,-.026500770822167396546,.030123500153422355651,-.043259527534246444702,.13246473670005798339,-.015994479879736900329,.0087365750223398208618,.10201983153820037841,.037535104900598526001,.068049900233745574951,.070619478821754455566,-.054740384221076965332,.0083511695265769958496,-.031949974596500396728,-.13396966457366943359,.0060673318803310394287,.000015463325325981713831,.0025035075377672910691,.00063538947142660617828,-.0016642865957692265511,.040690958499908447266,.073728680610656738281,-.01632595062255859375,-.00068627088330686092376,-.028580481186509132386,-.034456782042980194091,-.0013046056265011429786,.050039075314998626708,.068380266427993774414,-.0068757208064198493957,-.045036084949970245361,.061181545257568359375,-.0039669089019298553466,.044774401932954788208,-.070391803979873657226,-.10410629957914352416,-.081044577062129974366,-.066343590617179870606,.0079136630520224571228,-.077490903437137603759,-.0030511289369314908981,-.084874771535396575927,.049313038587570190429,.042600642889738082886,-.0000000000000000000000000000000015181881474629283029,.013443718664348125457,-.019910875707864761352,-.055505000054836273193,-.019134411588311195373,-.013495263643562793731,-.035704497247934341431,-.064399778842926025391,.019107855856418609619,.012719670310616493226,.024851381778717041016,-.093588575720787048339,-.062265988439321517944,.039202295243740081787,.017028257250785827636,.10204911231994628906,-.012517168186604976654,.062391262501478195191,.0016121690860018134117,-.051197752356529235839,.066272825002670288086,.0013885517837479710578,.012607739306986331939,.085481576621532440186,.0071007269434630870819,.025378370657563209533,-.017732504755258560181,.085226081311702728271,.076817169785499572753,-.061168070882558822631,.0051341527141630649566,-.044807758182287216186,-.018929181620478630066,.065984874963760375976,.057333964854478836059,-.074878945946693420411,.11031019687652587891,.12186551094055175781,-.11057461053133010864,.016033869236707687377,-.058919120579957962036,-.014871346764266490936,.061085827648639678956,-.019980207085609436036,-.0051482259295880794526,-.012029589153826236724,-.018748953938484191894,-.056261304765939712524,.10432797670364379882,-.0015330554451793432236,-.055863838642835617066,.029175050556659698486,.050351552665233612061,.014692741446197032928,.079627253115177154541,-.00078495487105101346969,-.026532325893640518188,-.0090686036273837089538,-.064082905650138854981,-.13399103283882141113,.018465835601091384887,.039947055280208587646,.039661921560764312744,-.10215687006711959838,.076725699007511138916,.024814251810312271118,.028088120743632316589,-.079736858606338500976,-.077876985073089599609,-.067318148910999298096,-.027738535776734352111,-.0090725980699062347412,.028431827202439308166,.013899175450205802917,.034374974668025970458,-.017032720148563385009,-.025167591869831085206,.011570427566766738891,.013306306675076484681,.019668968394398689271,.036393243819475173951,.040906585752964019776,-.059471398591995239257,-.021783445030450820922,.10847119987010955811,-.097006052732467651367,-.0021521865855902433396,.043550200760364532471,.026423798874020576477,-.014302712865173816681,-.023286035284399986267,-.024233853444457054138,-.025228893384337425231,-.055040799081325531006,.014273216947913169861,-.0052255461923778057098,-.000000022836708524209825554,-.053923517465591430664,.0019562779925763607026,-.010747992433607578277,.015094514004886150361,.063157573342323303222,.064722016453742980957,-.016588484868407249451,-.029425444081425666809,.017908809706568717956,-.083357006311416625976,-.047671824693679809571,-.014976733364164829254,.016750168055295944213,-.043989934027194976806,-.093658439815044403076,-.038473207503557205201,.039104588329792022706,-.11561618745326995849,-.052344929426908493041,.020816320553421974182,-.045988876372575759887,-.0026044228579849004746,.023183137178421020507,.072885043919086456298,-.0044787800870835781097,.029556652531027793884,-.085523888468742370606,.018979562446475028991,-.076197355985641479492,.045170877128839492797,-.029489522799849510192,-.018124556168913841247,-.030733782798051834106,-.034431692212820053101,.038619223982095718383,.036203324794769287109,.037571359425783157348,-.0088104736059904098511,.00044587554293684661388,-.091880202293395996093,-.054468918591737747192,-.10111302882432937622,.058018080890178680419,.013705100864171981811,.044582314789295196533,.0079337693750858306884,-.12196383625268936157,-.029992682859301567077,.060539424419403076171,-.031718458980321884156,.030555197969079017639,-.012658297084271907806,-.0036841449327766895294,.061056498438119888306,-.069688633084297180176,.051512412726879119873,.022988868877291679382,.021831618621945381164,-.084308542311191558837,.00096199929248541593551,.069561988115310668946,.0083408514037728309631,-.0086696892976760864257,.10918556153774261474',)\n"
     ]
    }
   ],
   "source": [
    "vectorizer = SentenceTransformer('all-MiniLM-L6-v2')\n",
    "\n",
    "searchPhraseHigh = \"violent aggressor sexual assault rape knife crime stabbing slashing armed robbery mugging  weapons gun violence active shooter fatal assault\"\n",
    "searchPhraseMid = \"pickpocket anti social behavior loitering public disorder mugging minor assault verbal harassment aggravated assault intimidation physical altercation\"\n",
    "searchPhraseLow = \"house robbery shoplifting vandalism drug possession trespassing public nuisance petty theft loitering minor property crimes unauthorized entry\"\n",
    "\n",
    "tableName = \"SafeRoute.CrimeDataSample\"\n",
    "\n",
    "# Define the SQL query with placeholders for the vector and limit\n",
    "sql = f\"\"\"\n",
    "    SELECT TOP ? ContextVector\n",
    "    FROM {tableName}\n",
    "    ORDER BY VECTOR_DOT_PRODUCT(ContextVector, TO_VECTOR(?)) DESC\n",
    "    \"\"\"\n",
    "\n",
    "numberOfResults = 1000\n",
    "\n",
    "searchVectorHigh = vectorizer.encode(searchPhraseHigh, normalize_embeddings=True).tolist()\n",
    "cursor.execute(sql, [numberOfResults, str(searchVectorHigh)])\n",
    "resultsHigh = cursor.fetchall()\n",
    "print(resultsHigh[0])\n",
    "\n",
    "searchVectorMid = vectorizer.encode(searchPhraseMid, normalize_embeddings=True).tolist()\n",
    "cursor.execute(sql, [numberOfResults, str(searchVectorMid)])\n",
    "resultsMid = cursor.fetchall()\n",
    "\n",
    "searchVectorLow = vectorizer.encode(searchPhraseLow, normalize_embeddings=True).tolist()\n",
    "cursor.execute(sql, [numberOfResults, str(searchVectorLow)])\n",
    "resultsLow = cursor.fetchall()\n",
    "\n",
    "\n"
   ]
  },
  {
   "cell_type": "markdown",
   "metadata": {},
   "source": [
    "Train via keywords"
   ]
  },
  {
   "cell_type": "raw",
   "metadata": {
    "vscode": {
     "languageId": "raw"
    }
   },
   "source": [
    "searchPhraseHigh = \"\"\"\n",
    "Sexual assault rape attempted rape\n",
    "Kidnapping abduction human trafficking\n",
    "Armed robbery firearm knife weaponized attack\n",
    "Stalking intent harm persistent following\n",
    "Murder attempted murder execution-style attack\n",
    "Sex trafficking forced confinement abduction\n",
    "Active shooter mass shooting gunfire incident\n",
    "Brutal physical assault isolated area ambush\n",
    "Strangulation suffocation choking attack\n",
    "Gang-related attacks targeting\n",
    "Acid attack chemical assault intentional disfigurement\n",
    "Random street stabbings unprovoked knife attacks\n",
    "Hate crime violent racial religious gender-based attack\n",
    "Pushed train tracks into traffic thrown from height\n",
    "Serial offender targeting serial rapist\n",
    "Vehicular homicide pedestrian hit deliberate attack\n",
    "Unprovoked ambush from behind surprise knockout punch\n",
    "Violent carjacking targeted mugging at vehicle entrance\n",
    "Attacked\n",
    "Home invasion-style attacks dragged\n",
    "Intentional trampling riot protest violence\n",
    "Gang initiation assault unsuspecting victim targeted beating\n",
    "Drug-facilitated assault incapacitation intoxication attack\n",
    "\"\"\".lower()\n",
    "\n",
    "searchPhraseMid = \"\"\"\n",
    "Aggressive stalking prolonged following intimidation\n",
    "Mugging physical struggle snatch theft assault\n",
    "Forced confinement vehicle restraint locked room abduction\n",
    "Sexual harassment escalating physical groping exposure\n",
    "Pursued attacker chased stalked cornered\n",
    "Spiked drink predatory behavior targeting\n",
    "Unprovoked sucker punch knockout game random assault\n",
    "Surrounded by hostile group threatened\n",
    "Threatened with weapon intimidation no physical harm\n",
    "Attempted kidnapping grabbed restrained foiled abduction\n",
    "Groping indecent exposure public nudity sexual harassment\n",
    "Unwanted physical contact aggressive stranger interaction\n",
    "Pushed shoved trip fall injury confrontation\n",
    "Intimidation verbal abuse direct threats\n",
    "Punched slapped physical attack reaction rejection\n",
    "Followed period increasing fear discomfort\n",
    "Verbally abused targeted threats violent language\n",
    "Cornered alleyway sense of entrapment\n",
    "Homeless encampments unpredictable aggressive interactions\n",
    "Harassed ATMs cash withdrawal vulnerability\n",
    "Road rage pedestrian targeting deliberate aggression\n",
    "Lured false pretense deceptive\n",
    "\"\"\".lower()\n",
    "\n",
    "searchPhraseLow = \"\"\"\n",
    "Catcalling whistling persistent verbal harassment\n",
    "Unwanted sexual advances inappropriate comments staring\n",
    "Aggressive panhandling forceful begging threatening demeanor\n",
    "Followed briefly evasion successful but unnerving\n",
    "Attempted pickpocketing bag snatching stealth theft\n",
    "Blocked path demands for money aggressive confrontation\n",
    "Intoxicated individuals street harassment unpredictable behavior\n",
    "Street scams distraction theft misleading solicitation\n",
    "Explicit gestures suggestive remarks inappropriate behavior\n",
    "Spitting throwing objects at pedestrians targeted assault\n",
    "Surrounded by aggressive salespeople scammers distraction tactics\n",
    "Grabbed wrist arm physical intimidation nonviolent\n",
    "Stranger standing too close personal space invasion\n",
    "Minor physical jostling crowd aggression public disturbance\n",
    "Bicycle e-scooter theft while in motion sudden snatch\n",
    "Suspicious loitering near car entrance waiting ambush\n",
    "Public urination unsanitary street conditions discomfort\n",
    "Loud altercations escalating tension potential physical risk\n",
    "Cyclists motorists aggressive swerving intimidation maneuver\n",
    "Shoulder-check intentional bump crowd hostility\n",
    "False accusations public shaming targeted embarrassment\n",
    "Large protest mobs blocking movement impeding exit\n",
    "Encounters with unstable individuals erratic behavior unpredictable\n",
    "Stairwell elevator late night loitering intimidation\n",
    "\"\"\".lower()"
   ]
  },
  {
   "cell_type": "code",
   "execution_count": 137,
   "metadata": {},
   "outputs": [
    {
     "name": "stdout",
     "output_type": "stream",
     "text": [
      "(3000, 384)\n",
      "[[ 0.03124619  0.07259262  0.01011071 ...  0.00834085 -0.00866969\n",
      "   0.10918556]\n",
      " [-0.00871359  0.10045722 -0.02093219 ... -0.02278677 -0.01483309\n",
      "   0.0319922 ]\n",
      " [ 0.00700664  0.03747452 -0.03193188 ... -0.06719084  0.09332396\n",
      "  -0.02541574]\n",
      " ...\n",
      " [ 0.06772064  0.01955954  0.06193124 ...  0.03419967 -0.06836893\n",
      "   0.01571639]\n",
      " [-0.03351866  0.07536459 -0.04206793 ... -0.04804547 -0.03891229\n",
      "   0.03464732]\n",
      " [-0.01685778  0.07231984  0.0577804  ...  0.01198181 -0.04248691\n",
      "  -0.01522257]]\n"
     ]
    }
   ],
   "source": [
    "# Convert each row's vector string into a list of floats, then to a NumPy array.\n",
    "vector_list_high = [\n",
    "    np.array([float(x) for x in row[0].split(',')], dtype=np.float32)\n",
    "    for row in resultsHigh\n",
    "]\n",
    "\n",
    "vector_list_med = [\n",
    "    np.array([float(x) for x in row[0].split(',')], dtype=np.float32)\n",
    "    for row in resultsMid\n",
    "]\n",
    "\n",
    "vector_list_low = [\n",
    "    np.array([float(x) for x in row[0].split(',')], dtype=np.float32)\n",
    "    for row in resultsLow\n",
    "]\n",
    "\n",
    "\n",
    "# Stack the individual 1D arrays (vectors) into a 2D array.\n",
    "transformedResultsH = np.vstack(vector_list_high)\n",
    "transformedResultsM = np.vstack(vector_list_med)\n",
    "transformedResultsL = np.vstack(vector_list_low)\n",
    "\n",
    "transformedResults = np.vstack([transformedResultsH, transformedResultsM, transformedResultsL])\n",
    "\n",
    "# transformedResults = np.array(results, dtype=np.float32)\n",
    "print(transformedResults.shape)\n",
    "print(transformedResults)\n"
   ]
  },
  {
   "cell_type": "code",
   "execution_count": 138,
   "metadata": {},
   "outputs": [
    {
     "name": "stdout",
     "output_type": "stream",
     "text": [
      "[0.9518122  0.99835634 0.74591917 ... 0.28592157 0.37921515 0.28951836]\n",
      "(3000,)\n"
     ]
    }
   ],
   "source": [
    "y_high = np.random.uniform(\n",
    "  .6,\n",
    "  1, \n",
    "  size=(transformedResultsH.shape[0])\n",
    "  ).astype(np.float32)\n",
    "\n",
    "y_mid = np.random.uniform(\n",
    "  .4,\n",
    "  .6, \n",
    "  size=(transformedResultsM.shape[0])\n",
    "  ).astype(np.float32)\n",
    "\n",
    "y_low = np.random.uniform(\n",
    "  0,\n",
    "  .4, \n",
    "  size=(transformedResultsL.shape[0])\n",
    "  ).astype(np.float32)\n",
    "\n",
    "y = np.concatenate([y_high, y_mid, y_low])\n",
    "\n",
    "print(y)\n",
    "print(y.shape)"
   ]
  },
  {
   "cell_type": "code",
   "execution_count": 139,
   "metadata": {
    "vscode": {
     "languageId": "powershell"
    }
   },
   "outputs": [
    {
     "name": "stdout",
     "output_type": "stream",
     "text": [
      "Defaulting to user installation because normal site-packages is not writeable\n",
      "Requirement already satisfied: xgboost in c:\\users\\maxds\\appdata\\roaming\\python\\python312\\site-packages (2.1.3)\n",
      "Requirement already satisfied: numpy in c:\\users\\maxds\\appdata\\roaming\\python\\python312\\site-packages (from xgboost) (1.26.4)\n",
      "Requirement already satisfied: scipy in c:\\users\\maxds\\appdata\\roaming\\python\\python312\\site-packages (from xgboost) (1.15.1)\n"
     ]
    }
   ],
   "source": [
    "!pip install xgboost"
   ]
  },
  {
   "cell_type": "code",
   "execution_count": 140,
   "metadata": {},
   "outputs": [
    {
     "ename": "AttributeError",
     "evalue": "'super' object has no attribute '__sklearn_tags__'",
     "output_type": "error",
     "traceback": [
      "\u001b[1;31m---------------------------------------------------------------------------\u001b[0m",
      "\u001b[1;31mAttributeError\u001b[0m                            Traceback (most recent call last)",
      "File \u001b[1;32m~\\AppData\\Roaming\\Python\\Python312\\site-packages\\IPython\\core\\formatters.py:1036\u001b[0m, in \u001b[0;36mMimeBundleFormatter.__call__\u001b[1;34m(self, obj, include, exclude)\u001b[0m\n\u001b[0;32m   1033\u001b[0m     method \u001b[38;5;241m=\u001b[39m get_real_method(obj, \u001b[38;5;28mself\u001b[39m\u001b[38;5;241m.\u001b[39mprint_method)\n\u001b[0;32m   1035\u001b[0m     \u001b[38;5;28;01mif\u001b[39;00m method \u001b[38;5;129;01mis\u001b[39;00m \u001b[38;5;129;01mnot\u001b[39;00m \u001b[38;5;28;01mNone\u001b[39;00m:\n\u001b[1;32m-> 1036\u001b[0m         \u001b[38;5;28;01mreturn\u001b[39;00m \u001b[43mmethod\u001b[49m\u001b[43m(\u001b[49m\u001b[43minclude\u001b[49m\u001b[38;5;241;43m=\u001b[39;49m\u001b[43minclude\u001b[49m\u001b[43m,\u001b[49m\u001b[43m \u001b[49m\u001b[43mexclude\u001b[49m\u001b[38;5;241;43m=\u001b[39;49m\u001b[43mexclude\u001b[49m\u001b[43m)\u001b[49m\n\u001b[0;32m   1037\u001b[0m     \u001b[38;5;28;01mreturn\u001b[39;00m \u001b[38;5;28;01mNone\u001b[39;00m\n\u001b[0;32m   1038\u001b[0m \u001b[38;5;28;01melse\u001b[39;00m:\n",
      "File \u001b[1;32m~\\AppData\\Roaming\\Python\\Python312\\site-packages\\sklearn\\base.py:469\u001b[0m, in \u001b[0;36mBaseEstimator._repr_mimebundle_\u001b[1;34m(self, **kwargs)\u001b[0m\n\u001b[0;32m    467\u001b[0m output \u001b[38;5;241m=\u001b[39m {\u001b[38;5;124m\"\u001b[39m\u001b[38;5;124mtext/plain\u001b[39m\u001b[38;5;124m\"\u001b[39m: \u001b[38;5;28mrepr\u001b[39m(\u001b[38;5;28mself\u001b[39m)}\n\u001b[0;32m    468\u001b[0m \u001b[38;5;28;01mif\u001b[39;00m get_config()[\u001b[38;5;124m\"\u001b[39m\u001b[38;5;124mdisplay\u001b[39m\u001b[38;5;124m\"\u001b[39m] \u001b[38;5;241m==\u001b[39m \u001b[38;5;124m\"\u001b[39m\u001b[38;5;124mdiagram\u001b[39m\u001b[38;5;124m\"\u001b[39m:\n\u001b[1;32m--> 469\u001b[0m     output[\u001b[38;5;124m\"\u001b[39m\u001b[38;5;124mtext/html\u001b[39m\u001b[38;5;124m\"\u001b[39m] \u001b[38;5;241m=\u001b[39m \u001b[43mestimator_html_repr\u001b[49m\u001b[43m(\u001b[49m\u001b[38;5;28;43mself\u001b[39;49m\u001b[43m)\u001b[49m\n\u001b[0;32m    470\u001b[0m \u001b[38;5;28;01mreturn\u001b[39;00m output\n",
      "File \u001b[1;32m~\\AppData\\Roaming\\Python\\Python312\\site-packages\\sklearn\\utils\\_estimator_html_repr.py:387\u001b[0m, in \u001b[0;36mestimator_html_repr\u001b[1;34m(estimator)\u001b[0m\n\u001b[0;32m    385\u001b[0m \u001b[38;5;28;01melse\u001b[39;00m:\n\u001b[0;32m    386\u001b[0m     \u001b[38;5;28;01mtry\u001b[39;00m:\n\u001b[1;32m--> 387\u001b[0m         \u001b[43mcheck_is_fitted\u001b[49m\u001b[43m(\u001b[49m\u001b[43mestimator\u001b[49m\u001b[43m)\u001b[49m\n\u001b[0;32m    388\u001b[0m         status_label \u001b[38;5;241m=\u001b[39m \u001b[38;5;124m\"\u001b[39m\u001b[38;5;124m<span>Fitted</span>\u001b[39m\u001b[38;5;124m\"\u001b[39m\n\u001b[0;32m    389\u001b[0m         is_fitted_css_class \u001b[38;5;241m=\u001b[39m \u001b[38;5;124m\"\u001b[39m\u001b[38;5;124mfitted\u001b[39m\u001b[38;5;124m\"\u001b[39m\n",
      "File \u001b[1;32m~\\AppData\\Roaming\\Python\\Python312\\site-packages\\sklearn\\utils\\validation.py:1751\u001b[0m, in \u001b[0;36mcheck_is_fitted\u001b[1;34m(estimator, attributes, msg, all_or_any)\u001b[0m\n\u001b[0;32m   1748\u001b[0m \u001b[38;5;28;01mif\u001b[39;00m \u001b[38;5;129;01mnot\u001b[39;00m \u001b[38;5;28mhasattr\u001b[39m(estimator, \u001b[38;5;124m\"\u001b[39m\u001b[38;5;124mfit\u001b[39m\u001b[38;5;124m\"\u001b[39m):\n\u001b[0;32m   1749\u001b[0m     \u001b[38;5;28;01mraise\u001b[39;00m \u001b[38;5;167;01mTypeError\u001b[39;00m(\u001b[38;5;124m\"\u001b[39m\u001b[38;5;132;01m%s\u001b[39;00m\u001b[38;5;124m is not an estimator instance.\u001b[39m\u001b[38;5;124m\"\u001b[39m \u001b[38;5;241m%\u001b[39m (estimator))\n\u001b[1;32m-> 1751\u001b[0m tags \u001b[38;5;241m=\u001b[39m \u001b[43mget_tags\u001b[49m\u001b[43m(\u001b[49m\u001b[43mestimator\u001b[49m\u001b[43m)\u001b[49m\n\u001b[0;32m   1753\u001b[0m \u001b[38;5;28;01mif\u001b[39;00m \u001b[38;5;129;01mnot\u001b[39;00m tags\u001b[38;5;241m.\u001b[39mrequires_fit \u001b[38;5;129;01mand\u001b[39;00m attributes \u001b[38;5;129;01mis\u001b[39;00m \u001b[38;5;28;01mNone\u001b[39;00m:\n\u001b[0;32m   1754\u001b[0m     \u001b[38;5;28;01mreturn\u001b[39;00m\n",
      "File \u001b[1;32m~\\AppData\\Roaming\\Python\\Python312\\site-packages\\sklearn\\utils\\_tags.py:430\u001b[0m, in \u001b[0;36mget_tags\u001b[1;34m(estimator)\u001b[0m\n\u001b[0;32m    428\u001b[0m \u001b[38;5;28;01mfor\u001b[39;00m klass \u001b[38;5;129;01min\u001b[39;00m \u001b[38;5;28mreversed\u001b[39m(\u001b[38;5;28mtype\u001b[39m(estimator)\u001b[38;5;241m.\u001b[39mmro()):\n\u001b[0;32m    429\u001b[0m     \u001b[38;5;28;01mif\u001b[39;00m \u001b[38;5;124m\"\u001b[39m\u001b[38;5;124m__sklearn_tags__\u001b[39m\u001b[38;5;124m\"\u001b[39m \u001b[38;5;129;01min\u001b[39;00m \u001b[38;5;28mvars\u001b[39m(klass):\n\u001b[1;32m--> 430\u001b[0m         sklearn_tags_provider[klass] \u001b[38;5;241m=\u001b[39m \u001b[43mklass\u001b[49m\u001b[38;5;241;43m.\u001b[39;49m\u001b[43m__sklearn_tags__\u001b[49m\u001b[43m(\u001b[49m\u001b[43mestimator\u001b[49m\u001b[43m)\u001b[49m  \u001b[38;5;66;03m# type: ignore[attr-defined]\u001b[39;00m\n\u001b[0;32m    431\u001b[0m         class_order\u001b[38;5;241m.\u001b[39mappend(klass)\n\u001b[0;32m    432\u001b[0m     \u001b[38;5;28;01melif\u001b[39;00m \u001b[38;5;124m\"\u001b[39m\u001b[38;5;124m_more_tags\u001b[39m\u001b[38;5;124m\"\u001b[39m \u001b[38;5;129;01min\u001b[39;00m \u001b[38;5;28mvars\u001b[39m(klass):\n",
      "File \u001b[1;32m~\\AppData\\Roaming\\Python\\Python312\\site-packages\\sklearn\\base.py:613\u001b[0m, in \u001b[0;36mRegressorMixin.__sklearn_tags__\u001b[1;34m(self)\u001b[0m\n\u001b[0;32m    612\u001b[0m \u001b[38;5;28;01mdef\u001b[39;00m\u001b[38;5;250m \u001b[39m\u001b[38;5;21m__sklearn_tags__\u001b[39m(\u001b[38;5;28mself\u001b[39m):\n\u001b[1;32m--> 613\u001b[0m     tags \u001b[38;5;241m=\u001b[39m \u001b[38;5;28;43msuper\u001b[39;49m\u001b[43m(\u001b[49m\u001b[43m)\u001b[49m\u001b[38;5;241;43m.\u001b[39;49m\u001b[43m__sklearn_tags__\u001b[49m()\n\u001b[0;32m    614\u001b[0m     tags\u001b[38;5;241m.\u001b[39mestimator_type \u001b[38;5;241m=\u001b[39m \u001b[38;5;124m\"\u001b[39m\u001b[38;5;124mregressor\u001b[39m\u001b[38;5;124m\"\u001b[39m\n\u001b[0;32m    615\u001b[0m     tags\u001b[38;5;241m.\u001b[39mregressor_tags \u001b[38;5;241m=\u001b[39m RegressorTags()\n",
      "\u001b[1;31mAttributeError\u001b[0m: 'super' object has no attribute '__sklearn_tags__'"
     ]
    },
    {
     "ename": "AttributeError",
     "evalue": "'super' object has no attribute '__sklearn_tags__'",
     "output_type": "error",
     "traceback": [
      "\u001b[1;31m---------------------------------------------------------------------------\u001b[0m",
      "\u001b[1;31mAttributeError\u001b[0m                            Traceback (most recent call last)",
      "File \u001b[1;32m~\\AppData\\Roaming\\Python\\Python312\\site-packages\\IPython\\core\\formatters.py:406\u001b[0m, in \u001b[0;36mBaseFormatter.__call__\u001b[1;34m(self, obj)\u001b[0m\n\u001b[0;32m    404\u001b[0m     method \u001b[38;5;241m=\u001b[39m get_real_method(obj, \u001b[38;5;28mself\u001b[39m\u001b[38;5;241m.\u001b[39mprint_method)\n\u001b[0;32m    405\u001b[0m     \u001b[38;5;28;01mif\u001b[39;00m method \u001b[38;5;129;01mis\u001b[39;00m \u001b[38;5;129;01mnot\u001b[39;00m \u001b[38;5;28;01mNone\u001b[39;00m:\n\u001b[1;32m--> 406\u001b[0m         \u001b[38;5;28;01mreturn\u001b[39;00m \u001b[43mmethod\u001b[49m\u001b[43m(\u001b[49m\u001b[43m)\u001b[49m\n\u001b[0;32m    407\u001b[0m     \u001b[38;5;28;01mreturn\u001b[39;00m \u001b[38;5;28;01mNone\u001b[39;00m\n\u001b[0;32m    408\u001b[0m \u001b[38;5;28;01melse\u001b[39;00m:\n",
      "File \u001b[1;32m~\\AppData\\Roaming\\Python\\Python312\\site-packages\\sklearn\\base.py:463\u001b[0m, in \u001b[0;36mBaseEstimator._repr_html_inner\u001b[1;34m(self)\u001b[0m\n\u001b[0;32m    458\u001b[0m \u001b[38;5;28;01mdef\u001b[39;00m\u001b[38;5;250m \u001b[39m\u001b[38;5;21m_repr_html_inner\u001b[39m(\u001b[38;5;28mself\u001b[39m):\n\u001b[0;32m    459\u001b[0m \u001b[38;5;250m    \u001b[39m\u001b[38;5;124;03m\"\"\"This function is returned by the @property `_repr_html_` to make\u001b[39;00m\n\u001b[0;32m    460\u001b[0m \u001b[38;5;124;03m    `hasattr(estimator, \"_repr_html_\") return `True` or `False` depending\u001b[39;00m\n\u001b[0;32m    461\u001b[0m \u001b[38;5;124;03m    on `get_config()[\"display\"]`.\u001b[39;00m\n\u001b[0;32m    462\u001b[0m \u001b[38;5;124;03m    \"\"\"\u001b[39;00m\n\u001b[1;32m--> 463\u001b[0m     \u001b[38;5;28;01mreturn\u001b[39;00m \u001b[43mestimator_html_repr\u001b[49m\u001b[43m(\u001b[49m\u001b[38;5;28;43mself\u001b[39;49m\u001b[43m)\u001b[49m\n",
      "File \u001b[1;32m~\\AppData\\Roaming\\Python\\Python312\\site-packages\\sklearn\\utils\\_estimator_html_repr.py:387\u001b[0m, in \u001b[0;36mestimator_html_repr\u001b[1;34m(estimator)\u001b[0m\n\u001b[0;32m    385\u001b[0m \u001b[38;5;28;01melse\u001b[39;00m:\n\u001b[0;32m    386\u001b[0m     \u001b[38;5;28;01mtry\u001b[39;00m:\n\u001b[1;32m--> 387\u001b[0m         \u001b[43mcheck_is_fitted\u001b[49m\u001b[43m(\u001b[49m\u001b[43mestimator\u001b[49m\u001b[43m)\u001b[49m\n\u001b[0;32m    388\u001b[0m         status_label \u001b[38;5;241m=\u001b[39m \u001b[38;5;124m\"\u001b[39m\u001b[38;5;124m<span>Fitted</span>\u001b[39m\u001b[38;5;124m\"\u001b[39m\n\u001b[0;32m    389\u001b[0m         is_fitted_css_class \u001b[38;5;241m=\u001b[39m \u001b[38;5;124m\"\u001b[39m\u001b[38;5;124mfitted\u001b[39m\u001b[38;5;124m\"\u001b[39m\n",
      "File \u001b[1;32m~\\AppData\\Roaming\\Python\\Python312\\site-packages\\sklearn\\utils\\validation.py:1751\u001b[0m, in \u001b[0;36mcheck_is_fitted\u001b[1;34m(estimator, attributes, msg, all_or_any)\u001b[0m\n\u001b[0;32m   1748\u001b[0m \u001b[38;5;28;01mif\u001b[39;00m \u001b[38;5;129;01mnot\u001b[39;00m \u001b[38;5;28mhasattr\u001b[39m(estimator, \u001b[38;5;124m\"\u001b[39m\u001b[38;5;124mfit\u001b[39m\u001b[38;5;124m\"\u001b[39m):\n\u001b[0;32m   1749\u001b[0m     \u001b[38;5;28;01mraise\u001b[39;00m \u001b[38;5;167;01mTypeError\u001b[39;00m(\u001b[38;5;124m\"\u001b[39m\u001b[38;5;132;01m%s\u001b[39;00m\u001b[38;5;124m is not an estimator instance.\u001b[39m\u001b[38;5;124m\"\u001b[39m \u001b[38;5;241m%\u001b[39m (estimator))\n\u001b[1;32m-> 1751\u001b[0m tags \u001b[38;5;241m=\u001b[39m \u001b[43mget_tags\u001b[49m\u001b[43m(\u001b[49m\u001b[43mestimator\u001b[49m\u001b[43m)\u001b[49m\n\u001b[0;32m   1753\u001b[0m \u001b[38;5;28;01mif\u001b[39;00m \u001b[38;5;129;01mnot\u001b[39;00m tags\u001b[38;5;241m.\u001b[39mrequires_fit \u001b[38;5;129;01mand\u001b[39;00m attributes \u001b[38;5;129;01mis\u001b[39;00m \u001b[38;5;28;01mNone\u001b[39;00m:\n\u001b[0;32m   1754\u001b[0m     \u001b[38;5;28;01mreturn\u001b[39;00m\n",
      "File \u001b[1;32m~\\AppData\\Roaming\\Python\\Python312\\site-packages\\sklearn\\utils\\_tags.py:430\u001b[0m, in \u001b[0;36mget_tags\u001b[1;34m(estimator)\u001b[0m\n\u001b[0;32m    428\u001b[0m \u001b[38;5;28;01mfor\u001b[39;00m klass \u001b[38;5;129;01min\u001b[39;00m \u001b[38;5;28mreversed\u001b[39m(\u001b[38;5;28mtype\u001b[39m(estimator)\u001b[38;5;241m.\u001b[39mmro()):\n\u001b[0;32m    429\u001b[0m     \u001b[38;5;28;01mif\u001b[39;00m \u001b[38;5;124m\"\u001b[39m\u001b[38;5;124m__sklearn_tags__\u001b[39m\u001b[38;5;124m\"\u001b[39m \u001b[38;5;129;01min\u001b[39;00m \u001b[38;5;28mvars\u001b[39m(klass):\n\u001b[1;32m--> 430\u001b[0m         sklearn_tags_provider[klass] \u001b[38;5;241m=\u001b[39m \u001b[43mklass\u001b[49m\u001b[38;5;241;43m.\u001b[39;49m\u001b[43m__sklearn_tags__\u001b[49m\u001b[43m(\u001b[49m\u001b[43mestimator\u001b[49m\u001b[43m)\u001b[49m  \u001b[38;5;66;03m# type: ignore[attr-defined]\u001b[39;00m\n\u001b[0;32m    431\u001b[0m         class_order\u001b[38;5;241m.\u001b[39mappend(klass)\n\u001b[0;32m    432\u001b[0m     \u001b[38;5;28;01melif\u001b[39;00m \u001b[38;5;124m\"\u001b[39m\u001b[38;5;124m_more_tags\u001b[39m\u001b[38;5;124m\"\u001b[39m \u001b[38;5;129;01min\u001b[39;00m \u001b[38;5;28mvars\u001b[39m(klass):\n",
      "File \u001b[1;32m~\\AppData\\Roaming\\Python\\Python312\\site-packages\\sklearn\\base.py:613\u001b[0m, in \u001b[0;36mRegressorMixin.__sklearn_tags__\u001b[1;34m(self)\u001b[0m\n\u001b[0;32m    612\u001b[0m \u001b[38;5;28;01mdef\u001b[39;00m\u001b[38;5;250m \u001b[39m\u001b[38;5;21m__sklearn_tags__\u001b[39m(\u001b[38;5;28mself\u001b[39m):\n\u001b[1;32m--> 613\u001b[0m     tags \u001b[38;5;241m=\u001b[39m \u001b[38;5;28;43msuper\u001b[39;49m\u001b[43m(\u001b[49m\u001b[43m)\u001b[49m\u001b[38;5;241;43m.\u001b[39;49m\u001b[43m__sklearn_tags__\u001b[49m()\n\u001b[0;32m    614\u001b[0m     tags\u001b[38;5;241m.\u001b[39mestimator_type \u001b[38;5;241m=\u001b[39m \u001b[38;5;124m\"\u001b[39m\u001b[38;5;124mregressor\u001b[39m\u001b[38;5;124m\"\u001b[39m\n\u001b[0;32m    615\u001b[0m     tags\u001b[38;5;241m.\u001b[39mregressor_tags \u001b[38;5;241m=\u001b[39m RegressorTags()\n",
      "\u001b[1;31mAttributeError\u001b[0m: 'super' object has no attribute '__sklearn_tags__'"
     ]
    },
    {
     "data": {
      "text/plain": [
       "XGBRegressor(base_score=None, booster=None, callbacks=None,\n",
       "             colsample_bylevel=None, colsample_bynode=None,\n",
       "             colsample_bytree=None, device=None, early_stopping_rounds=None,\n",
       "             enable_categorical=False, eval_metric=None, feature_types=None,\n",
       "             gamma=None, grow_policy=None, importance_type=None,\n",
       "             interaction_constraints=None, learning_rate=0.1, max_bin=None,\n",
       "             max_cat_threshold=None, max_cat_to_onehot=None,\n",
       "             max_delta_step=None, max_depth=4, max_leaves=None,\n",
       "             min_child_weight=None, missing=nan, monotone_constraints=None,\n",
       "             multi_strategy=None, n_estimators=384, n_jobs=None,\n",
       "             num_parallel_tree=None, random_state=42, ...)"
      ]
     },
     "execution_count": 140,
     "metadata": {},
     "output_type": "execute_result"
    }
   ],
   "source": [
    "import xgboost\n",
    "\n",
    "model = xgboost.XGBRegressor (\n",
    "  objective = \"reg:squarederror\",\n",
    "  n_estimators = 384,\n",
    "  max_depth = 4,\n",
    "  learning_rate = 0.1,\n",
    "  random_state = 42\n",
    ")\n",
    "\n",
    "model.fit(transformedResults, y)"
   ]
  },
  {
   "cell_type": "code",
   "execution_count": 143,
   "metadata": {},
   "outputs": [
    {
     "name": "stdout",
     "output_type": "stream",
     "text": [
      "(384,)\n",
      "(1, 384)\n",
      "[0.9476356]\n"
     ]
    }
   ],
   "source": [
    "\n",
    "\n",
    "# test = \"sexual mugging with arson and blue jays\"\n",
    "# test = \"walking steadily. Light. Boring.\"\n",
    "test = \"Man sexually assaults, stabs and kills woman outside nightclub\".lower()\n",
    "\n",
    "res = vectorizer.encode(test, normalize_embeddings=True)\n",
    "print(res.shape)\n",
    "res = np.array(res, dtype=np.float32).reshape(1, -1)\n",
    "print(res.shape)\n",
    "\n",
    "print(model.predict(res))\n",
    "\n",
    "model.save_model(\"crime_score_regressor.JSON\")\n",
    "\n",
    "\n"
   ]
  }
 ],
 "metadata": {
  "kernelspec": {
   "display_name": "iris-env",
   "language": "python",
   "name": "python3"
  },
  "language_info": {
   "codemirror_mode": {
    "name": "ipython",
    "version": 3
   },
   "file_extension": ".py",
   "mimetype": "text/x-python",
   "name": "python",
   "nbconvert_exporter": "python",
   "pygments_lexer": "ipython3",
   "version": "3.12.3"
  }
 },
 "nbformat": 4,
 "nbformat_minor": 2
}
